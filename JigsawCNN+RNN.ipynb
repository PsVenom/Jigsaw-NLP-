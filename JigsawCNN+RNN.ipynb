{
 "cells": [
  {
   "cell_type": "code",
   "execution_count": 1,
   "id": "44c05ed5",
   "metadata": {
    "_cell_guid": "b1076dfc-b9ad-4769-8c92-a6c4dae69d19",
    "_uuid": "8f2839f25d086af736a60e9eeb907d3b93b6e0e5",
    "execution": {
     "iopub.execute_input": "2021-12-19T12:50:21.491544Z",
     "iopub.status.busy": "2021-12-19T12:50:21.489995Z",
     "iopub.status.idle": "2021-12-19T12:50:26.675040Z",
     "shell.execute_reply": "2021-12-19T12:50:26.674280Z",
     "shell.execute_reply.started": "2021-12-19T11:48:31.651119Z"
    },
    "papermill": {
     "duration": 5.212226,
     "end_time": "2021-12-19T12:50:26.675239",
     "exception": false,
     "start_time": "2021-12-19T12:50:21.463013",
     "status": "completed"
    },
    "tags": []
   },
   "outputs": [
    {
     "name": "stdout",
     "output_type": "stream",
     "text": [
      "/kaggle/input/bad-bad-words/bad-words.csv\n",
      "/kaggle/input/jigsaw-toxic-comment-classification-challenge/sample_submission.csv\n",
      "/kaggle/input/jigsaw-toxic-comment-classification-challenge/test_labels.csv\n",
      "/kaggle/input/jigsaw-toxic-comment-classification-challenge/train.csv\n",
      "/kaggle/input/jigsaw-toxic-comment-classification-challenge/test.csv\n",
      "/kaggle/input/jigsaw-toxic-severity-rating/sample_submission.csv\n",
      "/kaggle/input/jigsaw-toxic-severity-rating/validation_data.csv\n",
      "/kaggle/input/jigsaw-toxic-severity-rating/comments_to_score.csv\n",
      "/kaggle/input/glove-global-vectors-for-word-representation/glove.twitter.27B.200d.txt\n",
      "/kaggle/input/glove-global-vectors-for-word-representation/glove.twitter.27B.25d.txt\n",
      "/kaggle/input/glove-global-vectors-for-word-representation/glove.twitter.27B.50d.txt\n",
      "/kaggle/input/glove-global-vectors-for-word-representation/glove.twitter.27B.100d.txt\n"
     ]
    }
   ],
   "source": [
    "# This Python 3 environment comes with many helpful analytics libraries installed\n",
    "# It is defined by the kaggle/python Docker image: https://github.com/kaggle/docker-python\n",
    "# For example, here's several helpful packages to load\n",
    "import numpy as np # linear algebra\n",
    "import pandas as pd # data processing, CSV file I/O (e.g. pd.read_csv)\n",
    "import tensorflow as tf\n",
    "import keras\n",
    "import matplotlib.pyplot as plt\n",
    "from zipfile import ZipFile\n",
    "import seaborn as sns\n",
    "import re\n",
    "import warnings\n",
    "warnings.filterwarnings('ignore')\n",
    "# Input data files are available in the read-only \"../input/\" directory\n",
    "# For example, running this (by clicking run or pressing Shift+Enter) will list all files under the input directory\n",
    "\n",
    "import os\n",
    "for dirname, _, filenames in os.walk('/kaggle/input'):\n",
    "    for filename in filenames:\n",
    "        print(os.path.join(dirname, filename))\n",
    "\n",
    "# You can write up to 20GB to the current directory (/kaggle/working/) that gets preserved as output when you create a version using \"Save & Run All\" \n",
    "# You can also write temporary files to /kaggle/temp/, but they won't be saved outside of the current session"
   ]
  },
  {
   "cell_type": "code",
   "execution_count": 2,
   "id": "4259ca75",
   "metadata": {
    "execution": {
     "iopub.execute_input": "2021-12-19T12:50:26.725431Z",
     "iopub.status.busy": "2021-12-19T12:50:26.724656Z",
     "iopub.status.idle": "2021-12-19T12:50:26.821708Z",
     "shell.execute_reply": "2021-12-19T12:50:26.822127Z",
     "shell.execute_reply.started": "2021-12-19T11:48:38.195614Z"
    },
    "papermill": {
     "duration": 0.123419,
     "end_time": "2021-12-19T12:50:26.822289",
     "exception": false,
     "start_time": "2021-12-19T12:50:26.698870",
     "status": "completed"
    },
    "tags": []
   },
   "outputs": [
    {
     "data": {
      "text/html": [
       "<div>\n",
       "<style scoped>\n",
       "    .dataframe tbody tr th:only-of-type {\n",
       "        vertical-align: middle;\n",
       "    }\n",
       "\n",
       "    .dataframe tbody tr th {\n",
       "        vertical-align: top;\n",
       "    }\n",
       "\n",
       "    .dataframe thead th {\n",
       "        text-align: right;\n",
       "    }\n",
       "</style>\n",
       "<table border=\"1\" class=\"dataframe\">\n",
       "  <thead>\n",
       "    <tr style=\"text-align: right;\">\n",
       "      <th></th>\n",
       "      <th>comment_id</th>\n",
       "      <th>text</th>\n",
       "    </tr>\n",
       "  </thead>\n",
       "  <tbody>\n",
       "    <tr>\n",
       "      <th>0</th>\n",
       "      <td>114890</td>\n",
       "      <td>\"\\n \\n\\nGjalexei, you asked about whether ther...</td>\n",
       "    </tr>\n",
       "    <tr>\n",
       "      <th>1</th>\n",
       "      <td>732895</td>\n",
       "      <td>Looks like be have an abuser , can you please ...</td>\n",
       "    </tr>\n",
       "    <tr>\n",
       "      <th>2</th>\n",
       "      <td>1139051</td>\n",
       "      <td>I confess to having complete (and apparently b...</td>\n",
       "    </tr>\n",
       "    <tr>\n",
       "      <th>3</th>\n",
       "      <td>1434512</td>\n",
       "      <td>\"\\n\\nFreud's ideas are certainly much discusse...</td>\n",
       "    </tr>\n",
       "    <tr>\n",
       "      <th>4</th>\n",
       "      <td>2084821</td>\n",
       "      <td>It is not just you. This is a laundry list of ...</td>\n",
       "    </tr>\n",
       "  </tbody>\n",
       "</table>\n",
       "</div>"
      ],
      "text/plain": [
       "   comment_id                                               text\n",
       "0      114890  \"\\n \\n\\nGjalexei, you asked about whether ther...\n",
       "1      732895  Looks like be have an abuser , can you please ...\n",
       "2     1139051  I confess to having complete (and apparently b...\n",
       "3     1434512  \"\\n\\nFreud's ideas are certainly much discusse...\n",
       "4     2084821  It is not just you. This is a laundry list of ..."
      ]
     },
     "execution_count": 2,
     "metadata": {},
     "output_type": "execute_result"
    }
   ],
   "source": [
    "sample_data = pd.read_csv('/kaggle/input/jigsaw-toxic-severity-rating/comments_to_score.csv')\n",
    "sample_data.head()"
   ]
  },
  {
   "cell_type": "code",
   "execution_count": 3,
   "id": "03f3a0a0",
   "metadata": {
    "execution": {
     "iopub.execute_input": "2021-12-19T12:50:26.874036Z",
     "iopub.status.busy": "2021-12-19T12:50:26.873326Z",
     "iopub.status.idle": "2021-12-19T12:50:26.876093Z",
     "shell.execute_reply": "2021-12-19T12:50:26.876559Z",
     "shell.execute_reply.started": "2021-12-19T11:48:38.309776Z"
    },
    "papermill": {
     "duration": 0.032172,
     "end_time": "2021-12-19T12:50:26.876681",
     "exception": false,
     "start_time": "2021-12-19T12:50:26.844509",
     "status": "completed"
    },
    "tags": []
   },
   "outputs": [
    {
     "data": {
      "text/plain": [
       "0    \"\\n \\n\\nGjalexei, you asked about whether ther...\n",
       "1    Looks like be have an abuser , can you please ...\n",
       "2    I confess to having complete (and apparently b...\n",
       "3    \"\\n\\nFreud's ideas are certainly much discusse...\n",
       "4    It is not just you. This is a laundry list of ...\n",
       "Name: text, dtype: object"
      ]
     },
     "execution_count": 3,
     "metadata": {},
     "output_type": "execute_result"
    }
   ],
   "source": [
    "test = sample_data['text']\n",
    "test.head()"
   ]
  },
  {
   "cell_type": "code",
   "execution_count": 4,
   "id": "39fd826c",
   "metadata": {
    "execution": {
     "iopub.execute_input": "2021-12-19T12:50:26.925040Z",
     "iopub.status.busy": "2021-12-19T12:50:26.924531Z",
     "iopub.status.idle": "2021-12-19T12:50:29.008603Z",
     "shell.execute_reply": "2021-12-19T12:50:29.007791Z",
     "shell.execute_reply.started": "2021-12-19T11:48:38.325028Z"
    },
    "papermill": {
     "duration": 2.109811,
     "end_time": "2021-12-19T12:50:29.008738",
     "exception": false,
     "start_time": "2021-12-19T12:50:26.898927",
     "status": "completed"
    },
    "tags": []
   },
   "outputs": [
    {
     "data": {
      "text/html": [
       "<div>\n",
       "<style scoped>\n",
       "    .dataframe tbody tr th:only-of-type {\n",
       "        vertical-align: middle;\n",
       "    }\n",
       "\n",
       "    .dataframe tbody tr th {\n",
       "        vertical-align: top;\n",
       "    }\n",
       "\n",
       "    .dataframe thead th {\n",
       "        text-align: right;\n",
       "    }\n",
       "</style>\n",
       "<table border=\"1\" class=\"dataframe\">\n",
       "  <thead>\n",
       "    <tr style=\"text-align: right;\">\n",
       "      <th></th>\n",
       "      <th>id</th>\n",
       "      <th>comment_text</th>\n",
       "      <th>toxic</th>\n",
       "      <th>severe_toxic</th>\n",
       "      <th>obscene</th>\n",
       "      <th>threat</th>\n",
       "      <th>insult</th>\n",
       "      <th>identity_hate</th>\n",
       "    </tr>\n",
       "  </thead>\n",
       "  <tbody>\n",
       "    <tr>\n",
       "      <th>0</th>\n",
       "      <td>0000997932d777bf</td>\n",
       "      <td>Explanation\\nWhy the edits made under my usern...</td>\n",
       "      <td>0</td>\n",
       "      <td>0</td>\n",
       "      <td>0</td>\n",
       "      <td>0</td>\n",
       "      <td>0</td>\n",
       "      <td>0</td>\n",
       "    </tr>\n",
       "    <tr>\n",
       "      <th>1</th>\n",
       "      <td>000103f0d9cfb60f</td>\n",
       "      <td>D'aww! He matches this background colour I'm s...</td>\n",
       "      <td>0</td>\n",
       "      <td>0</td>\n",
       "      <td>0</td>\n",
       "      <td>0</td>\n",
       "      <td>0</td>\n",
       "      <td>0</td>\n",
       "    </tr>\n",
       "    <tr>\n",
       "      <th>2</th>\n",
       "      <td>000113f07ec002fd</td>\n",
       "      <td>Hey man, I'm really not trying to edit war. It...</td>\n",
       "      <td>0</td>\n",
       "      <td>0</td>\n",
       "      <td>0</td>\n",
       "      <td>0</td>\n",
       "      <td>0</td>\n",
       "      <td>0</td>\n",
       "    </tr>\n",
       "    <tr>\n",
       "      <th>3</th>\n",
       "      <td>0001b41b1c6bb37e</td>\n",
       "      <td>\"\\nMore\\nI can't make any real suggestions on ...</td>\n",
       "      <td>0</td>\n",
       "      <td>0</td>\n",
       "      <td>0</td>\n",
       "      <td>0</td>\n",
       "      <td>0</td>\n",
       "      <td>0</td>\n",
       "    </tr>\n",
       "    <tr>\n",
       "      <th>4</th>\n",
       "      <td>0001d958c54c6e35</td>\n",
       "      <td>You, sir, are my hero. Any chance you remember...</td>\n",
       "      <td>0</td>\n",
       "      <td>0</td>\n",
       "      <td>0</td>\n",
       "      <td>0</td>\n",
       "      <td>0</td>\n",
       "      <td>0</td>\n",
       "    </tr>\n",
       "  </tbody>\n",
       "</table>\n",
       "</div>"
      ],
      "text/plain": [
       "                 id                                       comment_text  toxic  \\\n",
       "0  0000997932d777bf  Explanation\\nWhy the edits made under my usern...      0   \n",
       "1  000103f0d9cfb60f  D'aww! He matches this background colour I'm s...      0   \n",
       "2  000113f07ec002fd  Hey man, I'm really not trying to edit war. It...      0   \n",
       "3  0001b41b1c6bb37e  \"\\nMore\\nI can't make any real suggestions on ...      0   \n",
       "4  0001d958c54c6e35  You, sir, are my hero. Any chance you remember...      0   \n",
       "\n",
       "   severe_toxic  obscene  threat  insult  identity_hate  \n",
       "0             0        0       0       0              0  \n",
       "1             0        0       0       0              0  \n",
       "2             0        0       0       0              0  \n",
       "3             0        0       0       0              0  \n",
       "4             0        0       0       0              0  "
      ]
     },
     "execution_count": 4,
     "metadata": {},
     "output_type": "execute_result"
    }
   ],
   "source": [
    "lis = pd.read_csv('../input/jigsaw-toxic-comment-classification-challenge/train.csv')\n",
    "lis2 = pd.read_csv('/kaggle/input/jigsaw-toxic-severity-rating/validation_data.csv')\n",
    "lis.head()"
   ]
  },
  {
   "cell_type": "code",
   "execution_count": 5,
   "id": "30207197",
   "metadata": {
    "execution": {
     "iopub.execute_input": "2021-12-19T12:50:29.102391Z",
     "iopub.status.busy": "2021-12-19T12:50:29.089703Z",
     "iopub.status.idle": "2021-12-19T12:50:29.439975Z",
     "shell.execute_reply": "2021-12-19T12:50:29.440409Z",
     "shell.execute_reply.started": "2021-12-19T11:48:40.573923Z"
    },
    "papermill": {
     "duration": 0.407919,
     "end_time": "2021-12-19T12:50:29.440566",
     "exception": false,
     "start_time": "2021-12-19T12:50:29.032647",
     "status": "completed"
    },
    "tags": []
   },
   "outputs": [
    {
     "data": {
      "text/html": [
       "<div>\n",
       "<style scoped>\n",
       "    .dataframe tbody tr th:only-of-type {\n",
       "        vertical-align: middle;\n",
       "    }\n",
       "\n",
       "    .dataframe tbody tr th {\n",
       "        vertical-align: top;\n",
       "    }\n",
       "\n",
       "    .dataframe thead th {\n",
       "        text-align: right;\n",
       "    }\n",
       "</style>\n",
       "<table border=\"1\" class=\"dataframe\">\n",
       "  <thead>\n",
       "    <tr style=\"text-align: right;\">\n",
       "      <th></th>\n",
       "      <th>id</th>\n",
       "      <th>comment_text</th>\n",
       "      <th>toxic</th>\n",
       "      <th>severe_toxic</th>\n",
       "      <th>obscene</th>\n",
       "      <th>threat</th>\n",
       "      <th>insult</th>\n",
       "      <th>identity_hate</th>\n",
       "      <th>compound</th>\n",
       "      <th>y</th>\n",
       "    </tr>\n",
       "  </thead>\n",
       "  <tbody>\n",
       "    <tr>\n",
       "      <th>0</th>\n",
       "      <td>0000997932d777bf</td>\n",
       "      <td>Explanation\\nWhy the edits made under my usern...</td>\n",
       "      <td>0</td>\n",
       "      <td>0</td>\n",
       "      <td>0</td>\n",
       "      <td>0</td>\n",
       "      <td>0</td>\n",
       "      <td>0</td>\n",
       "      <td>0</td>\n",
       "      <td>0</td>\n",
       "    </tr>\n",
       "    <tr>\n",
       "      <th>1</th>\n",
       "      <td>000103f0d9cfb60f</td>\n",
       "      <td>D'aww! He matches this background colour I'm s...</td>\n",
       "      <td>0</td>\n",
       "      <td>0</td>\n",
       "      <td>0</td>\n",
       "      <td>0</td>\n",
       "      <td>0</td>\n",
       "      <td>0</td>\n",
       "      <td>0</td>\n",
       "      <td>0</td>\n",
       "    </tr>\n",
       "    <tr>\n",
       "      <th>2</th>\n",
       "      <td>000113f07ec002fd</td>\n",
       "      <td>Hey man, I'm really not trying to edit war. It...</td>\n",
       "      <td>0</td>\n",
       "      <td>0</td>\n",
       "      <td>0</td>\n",
       "      <td>0</td>\n",
       "      <td>0</td>\n",
       "      <td>0</td>\n",
       "      <td>0</td>\n",
       "      <td>0</td>\n",
       "    </tr>\n",
       "    <tr>\n",
       "      <th>3</th>\n",
       "      <td>0001b41b1c6bb37e</td>\n",
       "      <td>\"\\nMore\\nI can't make any real suggestions on ...</td>\n",
       "      <td>0</td>\n",
       "      <td>0</td>\n",
       "      <td>0</td>\n",
       "      <td>0</td>\n",
       "      <td>0</td>\n",
       "      <td>0</td>\n",
       "      <td>0</td>\n",
       "      <td>0</td>\n",
       "    </tr>\n",
       "    <tr>\n",
       "      <th>4</th>\n",
       "      <td>0001d958c54c6e35</td>\n",
       "      <td>You, sir, are my hero. Any chance you remember...</td>\n",
       "      <td>0</td>\n",
       "      <td>0</td>\n",
       "      <td>0</td>\n",
       "      <td>0</td>\n",
       "      <td>0</td>\n",
       "      <td>0</td>\n",
       "      <td>0</td>\n",
       "      <td>0</td>\n",
       "    </tr>\n",
       "  </tbody>\n",
       "</table>\n",
       "</div>"
      ],
      "text/plain": [
       "                 id                                       comment_text  toxic  \\\n",
       "0  0000997932d777bf  Explanation\\nWhy the edits made under my usern...      0   \n",
       "1  000103f0d9cfb60f  D'aww! He matches this background colour I'm s...      0   \n",
       "2  000113f07ec002fd  Hey man, I'm really not trying to edit war. It...      0   \n",
       "3  0001b41b1c6bb37e  \"\\nMore\\nI can't make any real suggestions on ...      0   \n",
       "4  0001d958c54c6e35  You, sir, are my hero. Any chance you remember...      0   \n",
       "\n",
       "   severe_toxic  obscene  threat  insult  identity_hate  compound  y  \n",
       "0             0        0       0       0              0         0  0  \n",
       "1             0        0       0       0              0         0  0  \n",
       "2             0        0       0       0              0         0  0  \n",
       "3             0        0       0       0              0         0  0  \n",
       "4             0        0       0       0              0         0  0  "
      ]
     },
     "execution_count": 5,
     "metadata": {},
     "output_type": "execute_result"
    }
   ],
   "source": [
    "lis['compound'] = lis.sum(axis = 1)\n",
    "def a(x) :\n",
    "    if x> 0:\n",
    "        return 1\n",
    "    else:\n",
    "        return 0\n",
    "lis['y'] = lis['compound'].apply(lambda x: a(x))\n",
    "lis.head()"
   ]
  },
  {
   "cell_type": "code",
   "execution_count": 6,
   "id": "b57c4abf",
   "metadata": {
    "execution": {
     "iopub.execute_input": "2021-12-19T12:50:29.494311Z",
     "iopub.status.busy": "2021-12-19T12:50:29.493104Z",
     "iopub.status.idle": "2021-12-19T12:50:29.513566Z",
     "shell.execute_reply": "2021-12-19T12:50:29.513971Z",
     "shell.execute_reply.started": "2021-12-19T11:48:41.007533Z"
    },
    "papermill": {
     "duration": 0.050279,
     "end_time": "2021-12-19T12:50:29.514102",
     "exception": false,
     "start_time": "2021-12-19T12:50:29.463823",
     "status": "completed"
    },
    "tags": []
   },
   "outputs": [
    {
     "data": {
      "text/html": [
       "<div>\n",
       "<style scoped>\n",
       "    .dataframe tbody tr th:only-of-type {\n",
       "        vertical-align: middle;\n",
       "    }\n",
       "\n",
       "    .dataframe tbody tr th {\n",
       "        vertical-align: top;\n",
       "    }\n",
       "\n",
       "    .dataframe thead th {\n",
       "        text-align: right;\n",
       "    }\n",
       "</style>\n",
       "<table border=\"1\" class=\"dataframe\">\n",
       "  <thead>\n",
       "    <tr style=\"text-align: right;\">\n",
       "      <th></th>\n",
       "      <th>comment_text</th>\n",
       "      <th>y</th>\n",
       "    </tr>\n",
       "  </thead>\n",
       "  <tbody>\n",
       "    <tr>\n",
       "      <th>0</th>\n",
       "      <td>Explanation\\nWhy the edits made under my usern...</td>\n",
       "      <td>0</td>\n",
       "    </tr>\n",
       "    <tr>\n",
       "      <th>1</th>\n",
       "      <td>D'aww! He matches this background colour I'm s...</td>\n",
       "      <td>0</td>\n",
       "    </tr>\n",
       "    <tr>\n",
       "      <th>2</th>\n",
       "      <td>Hey man, I'm really not trying to edit war. It...</td>\n",
       "      <td>0</td>\n",
       "    </tr>\n",
       "    <tr>\n",
       "      <th>3</th>\n",
       "      <td>\"\\nMore\\nI can't make any real suggestions on ...</td>\n",
       "      <td>0</td>\n",
       "    </tr>\n",
       "    <tr>\n",
       "      <th>4</th>\n",
       "      <td>You, sir, are my hero. Any chance you remember...</td>\n",
       "      <td>0</td>\n",
       "    </tr>\n",
       "  </tbody>\n",
       "</table>\n",
       "</div>"
      ],
      "text/plain": [
       "                                        comment_text  y\n",
       "0  Explanation\\nWhy the edits made under my usern...  0\n",
       "1  D'aww! He matches this background colour I'm s...  0\n",
       "2  Hey man, I'm really not trying to edit war. It...  0\n",
       "3  \"\\nMore\\nI can't make any real suggestions on ...  0\n",
       "4  You, sir, are my hero. Any chance you remember...  0"
      ]
     },
     "execution_count": 6,
     "metadata": {},
     "output_type": "execute_result"
    }
   ],
   "source": [
    "\n",
    "lis = lis[['comment_text', 'y']]\n",
    "lis.head()"
   ]
  },
  {
   "cell_type": "code",
   "execution_count": 7,
   "id": "f7cd9321",
   "metadata": {
    "execution": {
     "iopub.execute_input": "2021-12-19T12:50:29.574393Z",
     "iopub.status.busy": "2021-12-19T12:50:29.573533Z",
     "iopub.status.idle": "2021-12-19T12:50:29.587803Z",
     "shell.execute_reply": "2021-12-19T12:50:29.588299Z",
     "shell.execute_reply.started": "2021-12-19T11:48:41.037152Z"
    },
    "papermill": {
     "duration": 0.050653,
     "end_time": "2021-12-19T12:50:29.588454",
     "exception": false,
     "start_time": "2021-12-19T12:50:29.537801",
     "status": "completed"
    },
    "tags": []
   },
   "outputs": [
    {
     "data": {
      "text/html": [
       "<div>\n",
       "<style scoped>\n",
       "    .dataframe tbody tr th:only-of-type {\n",
       "        vertical-align: middle;\n",
       "    }\n",
       "\n",
       "    .dataframe tbody tr th {\n",
       "        vertical-align: top;\n",
       "    }\n",
       "\n",
       "    .dataframe thead th {\n",
       "        text-align: right;\n",
       "    }\n",
       "</style>\n",
       "<table border=\"1\" class=\"dataframe\">\n",
       "  <thead>\n",
       "    <tr style=\"text-align: right;\">\n",
       "      <th></th>\n",
       "      <th>comment_text</th>\n",
       "      <th>y</th>\n",
       "    </tr>\n",
       "  </thead>\n",
       "  <tbody>\n",
       "    <tr>\n",
       "      <th>159566</th>\n",
       "      <td>\":::::And for the second time of asking, when ...</td>\n",
       "      <td>0</td>\n",
       "    </tr>\n",
       "    <tr>\n",
       "      <th>159567</th>\n",
       "      <td>You should be ashamed of yourself \\n\\nThat is ...</td>\n",
       "      <td>0</td>\n",
       "    </tr>\n",
       "    <tr>\n",
       "      <th>159568</th>\n",
       "      <td>Spitzer \\n\\nUmm, theres no actual article for ...</td>\n",
       "      <td>0</td>\n",
       "    </tr>\n",
       "    <tr>\n",
       "      <th>159569</th>\n",
       "      <td>And it looks like it was actually you who put ...</td>\n",
       "      <td>0</td>\n",
       "    </tr>\n",
       "    <tr>\n",
       "      <th>159570</th>\n",
       "      <td>\"\\nAnd ... I really don't think you understand...</td>\n",
       "      <td>0</td>\n",
       "    </tr>\n",
       "  </tbody>\n",
       "</table>\n",
       "</div>"
      ],
      "text/plain": [
       "                                             comment_text  y\n",
       "159566  \":::::And for the second time of asking, when ...  0\n",
       "159567  You should be ashamed of yourself \\n\\nThat is ...  0\n",
       "159568  Spitzer \\n\\nUmm, theres no actual article for ...  0\n",
       "159569  And it looks like it was actually you who put ...  0\n",
       "159570  \"\\nAnd ... I really don't think you understand...  0"
      ]
     },
     "execution_count": 7,
     "metadata": {},
     "output_type": "execute_result"
    }
   ],
   "source": [
    "less_arr = pd.DataFrame(lis2['less_toxic']).rename(columns = {'less_toxic':'comment_text'}, inplace = False)\n",
    "more_arr = pd.DataFrame(lis2['more_toxic']).rename(columns = {'more_toxic':'comment_text'}, inplace = False)\n",
    "more_arr['y'] = 1\n",
    "less_arr['y'] =  0  \n",
    "lis  = pd.concat([less_arr, more_arr, lis])\n",
    "lis.tail()"
   ]
  },
  {
   "cell_type": "code",
   "execution_count": 8,
   "id": "78ecaabf",
   "metadata": {
    "execution": {
     "iopub.execute_input": "2021-12-19T12:50:29.652832Z",
     "iopub.status.busy": "2021-12-19T12:50:29.651521Z",
     "iopub.status.idle": "2021-12-19T12:50:29.655277Z",
     "shell.execute_reply": "2021-12-19T12:50:29.654807Z",
     "shell.execute_reply.started": "2021-12-19T11:48:41.065054Z"
    },
    "papermill": {
     "duration": 0.036812,
     "end_time": "2021-12-19T12:50:29.655391",
     "exception": false,
     "start_time": "2021-12-19T12:50:29.618579",
     "status": "completed"
    },
    "tags": []
   },
   "outputs": [
    {
     "data": {
      "text/plain": [
       "(219787, 2)"
      ]
     },
     "execution_count": 8,
     "metadata": {},
     "output_type": "execute_result"
    }
   ],
   "source": [
    "lis.shape"
   ]
  },
  {
   "cell_type": "code",
   "execution_count": 9,
   "id": "1a2b8e26",
   "metadata": {
    "execution": {
     "iopub.execute_input": "2021-12-19T12:50:29.746588Z",
     "iopub.status.busy": "2021-12-19T12:50:29.725353Z",
     "iopub.status.idle": "2021-12-19T12:50:52.361307Z",
     "shell.execute_reply": "2021-12-19T12:50:52.360843Z",
     "shell.execute_reply.started": "2021-12-19T11:48:41.075705Z"
    },
    "papermill": {
     "duration": 22.67921,
     "end_time": "2021-12-19T12:50:52.361445",
     "exception": false,
     "start_time": "2021-12-19T12:50:29.682235",
     "status": "completed"
    },
    "tags": []
   },
   "outputs": [
    {
     "data": {
      "text/html": [
       "<div>\n",
       "<style scoped>\n",
       "    .dataframe tbody tr th:only-of-type {\n",
       "        vertical-align: middle;\n",
       "    }\n",
       "\n",
       "    .dataframe tbody tr th {\n",
       "        vertical-align: top;\n",
       "    }\n",
       "\n",
       "    .dataframe thead th {\n",
       "        text-align: right;\n",
       "    }\n",
       "</style>\n",
       "<table border=\"1\" class=\"dataframe\">\n",
       "  <thead>\n",
       "    <tr style=\"text-align: right;\">\n",
       "      <th></th>\n",
       "      <th>comment_text</th>\n",
       "      <th>y</th>\n",
       "    </tr>\n",
       "  </thead>\n",
       "  <tbody>\n",
       "    <tr>\n",
       "      <th>0</th>\n",
       "      <td>This article sucks \\n\\nwoo woo wooooooo</td>\n",
       "      <td>0</td>\n",
       "    </tr>\n",
       "    <tr>\n",
       "      <th>1</th>\n",
       "      <td>\"And yes, people should recognize that but the...</td>\n",
       "      <td>0</td>\n",
       "    </tr>\n",
       "    <tr>\n",
       "      <th>2</th>\n",
       "      <td>Western Media?\\n\\nYup, because every crime in...</td>\n",
       "      <td>0</td>\n",
       "    </tr>\n",
       "    <tr>\n",
       "      <th>3</th>\n",
       "      <td>And you removed it! You numbskull! I do not ca...</td>\n",
       "      <td>0</td>\n",
       "    </tr>\n",
       "    <tr>\n",
       "      <th>4</th>\n",
       "      <td>smelly vagina \\n\\nBluerasberry why do not you...</td>\n",
       "      <td>0</td>\n",
       "    </tr>\n",
       "  </tbody>\n",
       "</table>\n",
       "</div>"
      ],
      "text/plain": [
       "                                        comment_text  y\n",
       "0            This article sucks \\n\\nwoo woo wooooooo  0\n",
       "1  \"And yes, people should recognize that but the...  0\n",
       "2   Western Media?\\n\\nYup, because every crime in...  0\n",
       "3  And you removed it! You numbskull! I do not ca...  0\n",
       "4   smelly vagina \\n\\nBluerasberry why do not you...  0"
      ]
     },
     "execution_count": 9,
     "metadata": {},
     "output_type": "execute_result"
    }
   ],
   "source": [
    "contractions_dict = { \n",
    "\"ain't\": \"am not / are not / is not / has not / have not\",\n",
    "\"aren't\": \"are not / am not\",\n",
    "\"can't\": \"cannot\",\n",
    "\"can't've\": \"cannot have\",\n",
    "\"'cause\": \"because\",\n",
    "\"could've\": \"could have\",\n",
    "\"couldn't\": \"could not\",\n",
    "\"couldn't've\": \"could not have\",\n",
    "\"didn't\": \"did not\",\n",
    "\"doesn't\": \"does not\",\n",
    "\"don't\": \"do not\",\n",
    "\"hadn't\": \"had not\",\n",
    "\"hadn't've\": \"had not have\",\n",
    "\"hasn't\": \"has not\",\n",
    "\"haven't\": \"have not\",\n",
    "\"he'd\": \"he had / he would\",\n",
    "\"he'd've\": \"he would have\",\n",
    "\"he'll\": \"he shall / he will\",\n",
    "\"he'll've\": \"he shall have / he will have\",\n",
    "\"he's\": \"he has / he is\",\n",
    "\"how'd\": \"how did\",\n",
    "\"how'd'y\": \"how do you\",\n",
    "\"how'll\": \"how will\",\n",
    "\"how's\": \"how has / how is / how does\",\n",
    "\"I'd\": \"I had / I would\",\n",
    "\"I'd've\": \"I would have\",\n",
    "\"I'll\": \"I shall / I will\",\n",
    "\"I'll've\": \"I shall have / I will have\",\n",
    "\"I'm\": \"I am\",\n",
    "\"I've\": \"I have\",\n",
    "\"isn't\": \"is not\",\n",
    "\"it'd\": \"it had / it would\",\n",
    "\"it'd've\": \"it would have\",\n",
    "\"it'll\": \"it shall / it will\",\n",
    "\"it'll've\": \"it shall have / it will have\",\n",
    "\"it's\": \"it has / it is\",\n",
    "\"let's\": \"let us\",\n",
    "\"ma'am\": \"madam\",\n",
    "\"mayn't\": \"may not\",\n",
    "\"might've\": \"might have\",\n",
    "\"mightn't\": \"might not\",\n",
    "\"mightn't've\": \"might not have\",\n",
    "\"must've\": \"must have\",\n",
    "\"mustn't\": \"must not\",\n",
    "\"mustn't've\": \"must not have\",\n",
    "\"needn't\": \"need not\",\n",
    "\"needn't've\": \"need not have\",\n",
    "\"o'clock\": \"of the clock\",\n",
    "\"oughtn't\": \"ought not\",\n",
    "\"oughtn't've\": \"ought not have\",\n",
    "\"shan't\": \"shall not\",\n",
    "\"sha'n't\": \"shall not\",\n",
    "\"shan't've\": \"shall not have\",\n",
    "\"she'd\": \"she had / she would\",\n",
    "\"she'd've\": \"she would have\",\n",
    "\"she'll\": \"she shall / she will\",\n",
    "\"she'll've\": \"she shall have / she will have\",\n",
    "\"she's\": \"she has / she is\",\n",
    "\"should've\": \"should have\",\n",
    "\"shouldn't\": \"should not\",\n",
    "\"shouldn't've\": \"should not have\",\n",
    "\"so've\": \"so have\",\n",
    "\"so's\": \"so as / so is\",\n",
    "\"that'd\": \"that would / that had\",\n",
    "\"that'd've\": \"that would have\",\n",
    "\"that's\": \"that has / that is\",\n",
    "\"there'd\": \"there had / there would\",\n",
    "\"there'd've\": \"there would have\",\n",
    "\"there's\": \"there has / there is\",\n",
    "\"they'd\": \"they had / they would\",\n",
    "\"they'd've\": \"they would have\",\n",
    "\"they'll\": \"they shall / they will\",\n",
    "\"they'll've\": \"they shall have / they will have\",\n",
    "\"they're\": \"they are\",\n",
    "\"they've\": \"they have\",\n",
    "\"to've\": \"to have\",\n",
    "\"wasn't\": \"was not\",\n",
    "\"we'd\": \"we had / we would\",\n",
    "\"we'd've\": \"we would have\",\n",
    "\"we'll\": \"we will\",\n",
    "\"we'll've\": \"we will have\",\n",
    "\"we're\": \"we are\",\n",
    "\"we've\": \"we have\",\n",
    "\"weren't\": \"were not\",\n",
    "\"what'll\": \"what shall / what will\",\n",
    "\"what'll've\": \"what shall have / what will have\",\n",
    "\"what're\": \"what are\",\n",
    "\"what's\": \"what has / what is\",\n",
    "\"what've\": \"what have\",\n",
    "\"when's\": \"when has / when is\",\n",
    "\"when've\": \"when have\",\n",
    "\"where'd\": \"where did\",\n",
    "\"where's\": \"where has / where is\",\n",
    "\"where've\": \"where have\",\n",
    "\"who'll\": \"who shall / who will\",\n",
    "\"who'll've\": \"who shall have / who will have\",\n",
    "\"who's\": \"who has / who is\",\n",
    "\"who've\": \"who have\",\n",
    "\"why's\": \"why has / why is\",\n",
    "\"why've\": \"why have\",\n",
    "\"will've\": \"will have\",\n",
    "\"won't\": \"will not\",\n",
    "\"won't've\": \"will not have\",\n",
    "\"would've\": \"would have\",\n",
    "\"wouldn't\": \"would not\",\n",
    "\"wouldn't've\": \"would not have\",\n",
    "\"y'all\": \"you all\",\n",
    "\"y'all'd\": \"you all would\",\n",
    "\"y'all'd've\": \"you all would have\",\n",
    "\"y'all're\": \"you all are\",\n",
    "\"y'all've\": \"you all have\",\n",
    "\"you'd\": \"you had / you would\",\n",
    "\"you'd've\": \"you would have\",\n",
    "\"you'll\": \"you shall / you will\",\n",
    "\"you'll've\": \"you shall have / you will have\",\n",
    "\"you're\": \"you are\",\n",
    "\"you've\": \"you have\"\n",
    "}\n",
    "contractions_re=re.compile('(%s)' % '|'.join(contractions_dict.keys()))\n",
    "def expand_contractions(text,contractions_dict=contractions_dict):\n",
    "    def replace(match):\n",
    "        return contractions_dict[match.group(0)]\n",
    "    return contractions_re.sub(replace, text)\n",
    "# Expanding Contractions in the reviews\n",
    "lis['comment_text']= lis['comment_text'].apply(lambda x:expand_contractions(x))\n",
    "\n",
    "lis.head()"
   ]
  },
  {
   "cell_type": "code",
   "execution_count": 10,
   "id": "edf107ac",
   "metadata": {
    "execution": {
     "iopub.execute_input": "2021-12-19T12:50:52.432034Z",
     "iopub.status.busy": "2021-12-19T12:50:52.425720Z",
     "iopub.status.idle": "2021-12-19T12:50:53.173801Z",
     "shell.execute_reply": "2021-12-19T12:50:53.173308Z",
     "shell.execute_reply.started": "2021-12-19T11:49:07.289535Z"
    },
    "papermill": {
     "duration": 0.787142,
     "end_time": "2021-12-19T12:50:53.173930",
     "exception": false,
     "start_time": "2021-12-19T12:50:52.386788",
     "status": "completed"
    },
    "tags": []
   },
   "outputs": [],
   "source": [
    "test= test.apply(lambda x:expand_contractions(x))"
   ]
  },
  {
   "cell_type": "code",
   "execution_count": 11,
   "id": "5cc974e0",
   "metadata": {
    "execution": {
     "iopub.execute_input": "2021-12-19T12:50:53.258135Z",
     "iopub.status.busy": "2021-12-19T12:50:53.257354Z",
     "iopub.status.idle": "2021-12-19T12:50:53.526533Z",
     "shell.execute_reply": "2021-12-19T12:50:53.526024Z",
     "shell.execute_reply.started": "2021-12-19T11:49:08.310866Z"
    },
    "papermill": {
     "duration": 0.327674,
     "end_time": "2021-12-19T12:50:53.526670",
     "exception": false,
     "start_time": "2021-12-19T12:50:53.198996",
     "status": "completed"
    },
    "tags": []
   },
   "outputs": [],
   "source": [
    "lis['comment_text'] = lis['comment_text'].str.lower()"
   ]
  },
  {
   "cell_type": "code",
   "execution_count": 12,
   "id": "bee501ef",
   "metadata": {
    "execution": {
     "iopub.execute_input": "2021-12-19T12:50:53.589036Z",
     "iopub.status.busy": "2021-12-19T12:50:53.582989Z",
     "iopub.status.idle": "2021-12-19T12:50:53.591491Z",
     "shell.execute_reply": "2021-12-19T12:50:53.590873Z",
     "shell.execute_reply.started": "2021-12-19T11:49:08.658335Z"
    },
    "papermill": {
     "duration": 0.039312,
     "end_time": "2021-12-19T12:50:53.591615",
     "exception": false,
     "start_time": "2021-12-19T12:50:53.552303",
     "status": "completed"
    },
    "tags": []
   },
   "outputs": [],
   "source": [
    "test = test.str.lower()"
   ]
  },
  {
   "cell_type": "code",
   "execution_count": 13,
   "id": "09f90c94",
   "metadata": {
    "execution": {
     "iopub.execute_input": "2021-12-19T12:50:53.645807Z",
     "iopub.status.busy": "2021-12-19T12:50:53.645075Z",
     "iopub.status.idle": "2021-12-19T12:50:57.157332Z",
     "shell.execute_reply": "2021-12-19T12:50:57.156870Z",
     "shell.execute_reply.started": "2021-12-19T11:49:08.677624Z"
    },
    "papermill": {
     "duration": 3.541142,
     "end_time": "2021-12-19T12:50:57.157464",
     "exception": false,
     "start_time": "2021-12-19T12:50:53.616322",
     "status": "completed"
    },
    "tags": []
   },
   "outputs": [
    {
     "data": {
      "text/html": [
       "<div>\n",
       "<style scoped>\n",
       "    .dataframe tbody tr th:only-of-type {\n",
       "        vertical-align: middle;\n",
       "    }\n",
       "\n",
       "    .dataframe tbody tr th {\n",
       "        vertical-align: top;\n",
       "    }\n",
       "\n",
       "    .dataframe thead th {\n",
       "        text-align: right;\n",
       "    }\n",
       "</style>\n",
       "<table border=\"1\" class=\"dataframe\">\n",
       "  <thead>\n",
       "    <tr style=\"text-align: right;\">\n",
       "      <th></th>\n",
       "      <th>comment_text</th>\n",
       "      <th>y</th>\n",
       "    </tr>\n",
       "  </thead>\n",
       "  <tbody>\n",
       "    <tr>\n",
       "      <th>23464</th>\n",
       "      <td>i am glad you are working on a rewrite and i w...</td>\n",
       "      <td>0</td>\n",
       "    </tr>\n",
       "    <tr>\n",
       "      <th>19280</th>\n",
       "      <td>\\n\\nfuck you you fucking piece of shit  ass fu...</td>\n",
       "      <td>1</td>\n",
       "    </tr>\n",
       "    <tr>\n",
       "      <th>898</th>\n",
       "      <td>i was simply pointing how you contradicted you...</td>\n",
       "      <td>1</td>\n",
       "    </tr>\n",
       "    <tr>\n",
       "      <th>2251</th>\n",
       "      <td>\\nyeah that paragraph is a mess for starters t...</td>\n",
       "      <td>0</td>\n",
       "    </tr>\n",
       "    <tr>\n",
       "      <th>15772</th>\n",
       "      <td>\\n\\nthe tm topic\\nhi irwolfie and welcome to t...</td>\n",
       "      <td>0</td>\n",
       "    </tr>\n",
       "  </tbody>\n",
       "</table>\n",
       "</div>"
      ],
      "text/plain": [
       "                                            comment_text  y\n",
       "23464  i am glad you are working on a rewrite and i w...  0\n",
       "19280  \\n\\nfuck you you fucking piece of shit  ass fu...  1\n",
       "898    i was simply pointing how you contradicted you...  1\n",
       "2251   \\nyeah that paragraph is a mess for starters t...  0\n",
       "15772  \\n\\nthe tm topic\\nhi irwolfie and welcome to t...  0"
      ]
     },
     "execution_count": 13,
     "metadata": {},
     "output_type": "execute_result"
    }
   ],
   "source": [
    "import string\n",
    "lis['comment_text'] = lis['comment_text'].apply(lambda x: re.sub('[%s]' % re.escape(string.punctuation), '' , x))\n",
    "lis.sample(5)"
   ]
  },
  {
   "cell_type": "code",
   "execution_count": 14,
   "id": "49fb828f",
   "metadata": {
    "execution": {
     "iopub.execute_input": "2021-12-19T12:50:57.211972Z",
     "iopub.status.busy": "2021-12-19T12:50:57.211173Z",
     "iopub.status.idle": "2021-12-19T12:50:57.328170Z",
     "shell.execute_reply": "2021-12-19T12:50:57.327527Z",
     "shell.execute_reply.started": "2021-12-19T11:49:12.469518Z"
    },
    "papermill": {
     "duration": 0.144957,
     "end_time": "2021-12-19T12:50:57.328319",
     "exception": false,
     "start_time": "2021-12-19T12:50:57.183362",
     "status": "completed"
    },
    "tags": []
   },
   "outputs": [],
   "source": [
    "test = test.apply(lambda x: re.sub('[%s]' % re.escape(string.punctuation), '' , x))"
   ]
  },
  {
   "cell_type": "code",
   "execution_count": 15,
   "id": "28070429",
   "metadata": {
    "execution": {
     "iopub.execute_input": "2021-12-19T12:50:57.386627Z",
     "iopub.status.busy": "2021-12-19T12:50:57.385874Z",
     "iopub.status.idle": "2021-12-19T12:51:04.674784Z",
     "shell.execute_reply": "2021-12-19T12:51:04.674354Z",
     "shell.execute_reply.started": "2021-12-19T11:49:12.612297Z"
    },
    "papermill": {
     "duration": 7.321454,
     "end_time": "2021-12-19T12:51:04.674904",
     "exception": false,
     "start_time": "2021-12-19T12:50:57.353450",
     "status": "completed"
    },
    "tags": []
   },
   "outputs": [
    {
     "data": {
      "text/html": [
       "<div>\n",
       "<style scoped>\n",
       "    .dataframe tbody tr th:only-of-type {\n",
       "        vertical-align: middle;\n",
       "    }\n",
       "\n",
       "    .dataframe tbody tr th {\n",
       "        vertical-align: top;\n",
       "    }\n",
       "\n",
       "    .dataframe thead th {\n",
       "        text-align: right;\n",
       "    }\n",
       "</style>\n",
       "<table border=\"1\" class=\"dataframe\">\n",
       "  <thead>\n",
       "    <tr style=\"text-align: right;\">\n",
       "      <th></th>\n",
       "      <th>comment_text</th>\n",
       "      <th>y</th>\n",
       "    </tr>\n",
       "  </thead>\n",
       "  <tbody>\n",
       "    <tr>\n",
       "      <th>0</th>\n",
       "      <td>this article sucks woo woo wooooooo</td>\n",
       "      <td>0</td>\n",
       "    </tr>\n",
       "    <tr>\n",
       "      <th>1</th>\n",
       "      <td>and yes people should recognize that but they ...</td>\n",
       "      <td>0</td>\n",
       "    </tr>\n",
       "    <tr>\n",
       "      <th>2</th>\n",
       "      <td>western media yup because every crime in the ...</td>\n",
       "      <td>0</td>\n",
       "    </tr>\n",
       "    <tr>\n",
       "      <th>3</th>\n",
       "      <td>and you removed it you numbskull i do not care...</td>\n",
       "      <td>0</td>\n",
       "    </tr>\n",
       "    <tr>\n",
       "      <th>4</th>\n",
       "      <td>smelly vagina bluerasberry why do not you be ...</td>\n",
       "      <td>0</td>\n",
       "    </tr>\n",
       "  </tbody>\n",
       "</table>\n",
       "</div>"
      ],
      "text/plain": [
       "                                        comment_text  y\n",
       "0                this article sucks woo woo wooooooo  0\n",
       "1  and yes people should recognize that but they ...  0\n",
       "2   western media yup because every crime in the ...  0\n",
       "3  and you removed it you numbskull i do not care...  0\n",
       "4   smelly vagina bluerasberry why do not you be ...  0"
      ]
     },
     "execution_count": 15,
     "metadata": {},
     "output_type": "execute_result"
    }
   ],
   "source": [
    "lis['comment_text'] = lis['comment_text'].apply(lambda x: re.sub('\\W+',' ', x))\n",
    "lis.head()"
   ]
  },
  {
   "cell_type": "code",
   "execution_count": 16,
   "id": "69c1efb6",
   "metadata": {
    "execution": {
     "iopub.execute_input": "2021-12-19T12:51:04.786120Z",
     "iopub.status.busy": "2021-12-19T12:51:04.780876Z",
     "iopub.status.idle": "2021-12-19T12:51:04.997358Z",
     "shell.execute_reply": "2021-12-19T12:51:04.996435Z",
     "shell.execute_reply.started": "2021-12-19T11:49:21.540439Z"
    },
    "papermill": {
     "duration": 0.296795,
     "end_time": "2021-12-19T12:51:04.997498",
     "exception": false,
     "start_time": "2021-12-19T12:51:04.700703",
     "status": "completed"
    },
    "tags": []
   },
   "outputs": [],
   "source": [
    "test = test.apply(lambda x: re.sub('\\W+',' ', x))"
   ]
  },
  {
   "cell_type": "code",
   "execution_count": 17,
   "id": "750a34f3",
   "metadata": {
    "execution": {
     "iopub.execute_input": "2021-12-19T12:51:05.056632Z",
     "iopub.status.busy": "2021-12-19T12:51:05.055582Z",
     "iopub.status.idle": "2021-12-19T12:51:05.326927Z",
     "shell.execute_reply": "2021-12-19T12:51:05.327359Z",
     "shell.execute_reply.started": "2021-12-19T11:49:21.857162Z"
    },
    "papermill": {
     "duration": 0.302094,
     "end_time": "2021-12-19T12:51:05.327515",
     "exception": false,
     "start_time": "2021-12-19T12:51:05.025421",
     "status": "completed"
    },
    "tags": []
   },
   "outputs": [
    {
     "data": {
      "text/plain": [
       "array([[<AxesSubplot:title={'center':'y'}>]], dtype=object)"
      ]
     },
     "execution_count": 17,
     "metadata": {},
     "output_type": "execute_result"
    },
    {
     "data": {
      "image/png": "[encoded data removed]",
      "text/plain": [
       "<Figure size 432x288 with 1 Axes>"
      ]
     },
     "metadata": {
      "needs_background": "light"
     },
     "output_type": "display_data"
    }
   ],
   "source": [
    "lis[lis['y']>=0].hist()"
   ]
  },
  {
   "cell_type": "code",
   "execution_count": 18,
   "id": "65054410",
   "metadata": {
    "execution": {
     "iopub.execute_input": "2021-12-19T12:51:05.390364Z",
     "iopub.status.busy": "2021-12-19T12:51:05.389500Z",
     "iopub.status.idle": "2021-12-19T12:51:05.431639Z",
     "shell.execute_reply": "2021-12-19T12:51:05.432078Z",
     "shell.execute_reply.started": "2021-12-19T11:49:22.212204Z"
    },
    "papermill": {
     "duration": 0.077739,
     "end_time": "2021-12-19T12:51:05.432260",
     "exception": false,
     "start_time": "2021-12-19T12:51:05.354521",
     "status": "completed"
    },
    "tags": []
   },
   "outputs": [],
   "source": [
    "lis = pd.concat([lis[lis['y'] > 0], lis[lis['y'] == 0].sample(int(len(lis[lis['y'] > 0])*1.5))], axis = 0).sample(frac = 1)"
   ]
  },
  {
   "cell_type": "code",
   "execution_count": 19,
   "id": "cf0965be",
   "metadata": {
    "execution": {
     "iopub.execute_input": "2021-12-19T12:51:05.491105Z",
     "iopub.status.busy": "2021-12-19T12:51:05.490366Z",
     "iopub.status.idle": "2021-12-19T12:51:05.719718Z",
     "shell.execute_reply": "2021-12-19T12:51:05.719054Z",
     "shell.execute_reply.started": "2021-12-19T11:49:22.259670Z"
    },
    "papermill": {
     "duration": 0.260449,
     "end_time": "2021-12-19T12:51:05.719842",
     "exception": false,
     "start_time": "2021-12-19T12:51:05.459393",
     "status": "completed"
    },
    "tags": []
   },
   "outputs": [
    {
     "data": {
      "text/plain": [
       "array([[<AxesSubplot:title={'center':'y'}>]], dtype=object)"
      ]
     },
     "execution_count": 19,
     "metadata": {},
     "output_type": "execute_result"
    },
    {
     "data": {
      "image/png": "[encoded data removed]",
      "text/plain": [
       "<Figure size 432x288 with 1 Axes>"
      ]
     },
     "metadata": {
      "needs_background": "light"
     },
     "output_type": "display_data"
    }
   ],
   "source": [
    "lis[lis['y']>=0].hist()"
   ]
  },
  {
   "cell_type": "code",
   "execution_count": 20,
   "id": "b5a2fe84",
   "metadata": {
    "execution": {
     "iopub.execute_input": "2021-12-19T12:51:05.779264Z",
     "iopub.status.busy": "2021-12-19T12:51:05.778595Z",
     "iopub.status.idle": "2021-12-19T12:51:05.781794Z",
     "shell.execute_reply": "2021-12-19T12:51:05.781372Z",
     "shell.execute_reply.started": "2021-12-19T11:49:22.589901Z"
    },
    "papermill": {
     "duration": 0.0348,
     "end_time": "2021-12-19T12:51:05.781900",
     "exception": false,
     "start_time": "2021-12-19T12:51:05.747100",
     "status": "completed"
    },
    "tags": []
   },
   "outputs": [
    {
     "data": {
      "text/plain": [
       "(115832, 2)"
      ]
     },
     "execution_count": 20,
     "metadata": {},
     "output_type": "execute_result"
    }
   ],
   "source": [
    "lis.shape"
   ]
  },
  {
   "cell_type": "code",
   "execution_count": 21,
   "id": "493b2800",
   "metadata": {
    "execution": {
     "iopub.execute_input": "2021-12-19T12:51:05.840675Z",
     "iopub.status.busy": "2021-12-19T12:51:05.840115Z",
     "iopub.status.idle": "2021-12-19T12:51:06.914073Z",
     "shell.execute_reply": "2021-12-19T12:51:06.913583Z",
     "shell.execute_reply.started": "2021-12-19T11:49:22.600110Z"
    },
    "papermill": {
     "duration": 1.105079,
     "end_time": "2021-12-19T12:51:06.914215",
     "exception": false,
     "start_time": "2021-12-19T12:51:05.809136",
     "status": "completed"
    },
    "tags": []
   },
   "outputs": [],
   "source": [
    "import unidecode\n",
    "lis['comment_text'] = lis['comment_text'].apply(lambda x: unidecode.unidecode(x))"
   ]
  },
  {
   "cell_type": "code",
   "execution_count": 22,
   "id": "a2049b7e",
   "metadata": {
    "execution": {
     "iopub.execute_input": "2021-12-19T12:51:07.008821Z",
     "iopub.status.busy": "2021-12-19T12:51:06.998512Z",
     "iopub.status.idle": "2021-12-19T12:51:07.089651Z",
     "shell.execute_reply": "2021-12-19T12:51:07.090304Z",
     "shell.execute_reply.started": "2021-12-19T11:49:23.863872Z"
    },
    "papermill": {
     "duration": 0.147992,
     "end_time": "2021-12-19T12:51:07.090560",
     "exception": false,
     "start_time": "2021-12-19T12:51:06.942568",
     "status": "completed"
    },
    "tags": []
   },
   "outputs": [],
   "source": [
    "test = test.apply(lambda x: unidecode.unidecode(x))"
   ]
  },
  {
   "cell_type": "code",
   "execution_count": 23,
   "id": "eb098126",
   "metadata": {
    "execution": {
     "iopub.execute_input": "2021-12-19T12:51:07.202052Z",
     "iopub.status.busy": "2021-12-19T12:51:07.201269Z",
     "iopub.status.idle": "2021-12-19T12:51:07.430966Z",
     "shell.execute_reply": "2021-12-19T12:51:07.432044Z",
     "shell.execute_reply.started": "2021-12-19T11:49:23.949418Z"
    },
    "papermill": {
     "duration": 0.284276,
     "end_time": "2021-12-19T12:51:07.432263",
     "exception": false,
     "start_time": "2021-12-19T12:51:07.147987",
     "status": "completed"
    },
    "tags": []
   },
   "outputs": [],
   "source": [
    "submit, texts, outputs = [], [], []\n",
    "for i in lis.itertuples():\n",
    "    texts.append(i[1])\n",
    "    outputs.append(i[-1])\n",
    "for i in test:\n",
    "    submit.append(i)"
   ]
  },
  {
   "cell_type": "code",
   "execution_count": 24,
   "id": "37687881",
   "metadata": {
    "execution": {
     "iopub.execute_input": "2021-12-19T12:51:07.534549Z",
     "iopub.status.busy": "2021-12-19T12:51:07.533811Z",
     "iopub.status.idle": "2021-12-19T12:51:21.995094Z",
     "shell.execute_reply": "2021-12-19T12:51:21.995820Z",
     "shell.execute_reply.started": "2021-12-19T11:49:24.129353Z"
    },
    "papermill": {
     "duration": 14.518145,
     "end_time": "2021-12-19T12:51:21.995987",
     "exception": false,
     "start_time": "2021-12-19T12:51:07.477842",
     "status": "completed"
    },
    "tags": []
   },
   "outputs": [
    {
     "name": "stdout",
     "output_type": "stream",
     "text": [
      "Found 152962 unique tokens\n",
      "shape of data tensor ((115832, 1000), (7537, 1000))\n",
      "shape of output (115832,)\n"
     ]
    }
   ],
   "source": [
    "from keras.preprocessing.text import Tokenizer\n",
    "from keras.preprocessing.sequence import pad_sequences\n",
    "tokenizer = Tokenizer(num_words = 250000)\n",
    "t_samples = 100000\n",
    "v_samples = 15832\n",
    "tokenizer.fit_on_texts(texts)\n",
    "sequences = tokenizer.texts_to_sequences(texts)\n",
    "submit_sequences = tokenizer.texts_to_sequences(submit)\n",
    "word_index = tokenizer.word_index\n",
    "print('Found %s unique tokens' % len(word_index))\n",
    "data = pad_sequences(sequences, maxlen = 1000)\n",
    "data_submit = pad_sequences(submit_sequences, maxlen = 1000)\n",
    "outputs = np.asarray(outputs)\n",
    "print('shape of data tensor', (data.shape, data_submit.shape))\n",
    "print('shape of output', outputs.shape)\n"
   ]
  },
  {
   "cell_type": "code",
   "execution_count": 25,
   "id": "79cc3c28",
   "metadata": {
    "execution": {
     "iopub.execute_input": "2021-12-19T12:51:22.058302Z",
     "iopub.status.busy": "2021-12-19T12:51:22.057156Z",
     "iopub.status.idle": "2021-12-19T12:51:22.201864Z",
     "shell.execute_reply": "2021-12-19T12:51:22.201381Z",
     "shell.execute_reply.started": "2021-12-19T11:49:41.409855Z"
    },
    "papermill": {
     "duration": 0.17776,
     "end_time": "2021-12-19T12:51:22.202014",
     "exception": false,
     "start_time": "2021-12-19T12:51:22.024254",
     "status": "completed"
    },
    "tags": []
   },
   "outputs": [],
   "source": [
    "indices = np.arange(data.shape[0])\n",
    "data = data[indices]\n",
    "labels = outputs[indices]\n",
    "Xt, Xv = data[:t_samples], data[t_samples: t_samples+v_samples]\n",
    "yt, yv = outputs[:t_samples], outputs[t_samples: t_samples+v_samples]"
   ]
  },
  {
   "cell_type": "code",
   "execution_count": 26,
   "id": "8ed02b78",
   "metadata": {
    "execution": {
     "iopub.execute_input": "2021-12-19T12:51:22.266100Z",
     "iopub.status.busy": "2021-12-19T12:51:22.265588Z",
     "iopub.status.idle": "2021-12-19T12:52:14.114581Z",
     "shell.execute_reply": "2021-12-19T12:52:14.114992Z",
     "shell.execute_reply.started": "2021-12-19T11:49:41.603178Z"
    },
    "papermill": {
     "duration": 51.883562,
     "end_time": "2021-12-19T12:52:14.115142",
     "exception": false,
     "start_time": "2021-12-19T12:51:22.231580",
     "status": "completed"
    },
    "tags": []
   },
   "outputs": [
    {
     "name": "stdout",
     "output_type": "stream",
     "text": [
      "Found 1193514 word vectors\n"
     ]
    }
   ],
   "source": [
    "f = open(os.path.join('/kaggle/input/glove-global-vectors-for-word-representation', 'glove.twitter.27B.100d.txt'))\n",
    "embeddings_index = {}\n",
    "for line in f:\n",
    "    value = line.split()\n",
    "    word = value[0]\n",
    "    coefs = np.asarray(value[1:], dtype = 'float32')\n",
    "    embeddings_index[word] = coefs\n",
    "f.close()\n",
    "print('Found %s word vectors'%len(embeddings_index))"
   ]
  },
  {
   "cell_type": "code",
   "execution_count": 27,
   "id": "3f60fd9f",
   "metadata": {
    "execution": {
     "iopub.execute_input": "2021-12-19T12:52:14.176891Z",
     "iopub.status.busy": "2021-12-19T12:52:14.175008Z",
     "iopub.status.idle": "2021-12-19T12:52:14.204943Z",
     "shell.execute_reply": "2021-12-19T12:52:14.205382Z",
     "shell.execute_reply.started": "2021-12-19T11:50:40.728779Z"
    },
    "papermill": {
     "duration": 0.062149,
     "end_time": "2021-12-19T12:52:14.205508",
     "exception": false,
     "start_time": "2021-12-19T12:52:14.143359",
     "status": "completed"
    },
    "tags": []
   },
   "outputs": [
    {
     "data": {
      "text/plain": [
       "array([[ 0.        ,  0.        ,  0.        , ...,  0.        ,\n",
       "         0.        ,  0.        ],\n",
       "       [ 0.095152  ,  0.37024   ,  0.54290998, ..., -0.51082999,\n",
       "         0.46877   ,  0.34882   ],\n",
       "       [ 0.073793  ,  0.22958   ,  0.1619    , ..., -0.57185   ,\n",
       "         0.56693   , -0.097415  ],\n",
       "       ...,\n",
       "       [ 0.        ,  0.        ,  0.        , ...,  0.        ,\n",
       "         0.        ,  0.        ],\n",
       "       [ 0.        ,  0.        ,  0.        , ...,  0.        ,\n",
       "         0.        ,  0.        ],\n",
       "       [ 0.        ,  0.        ,  0.        , ...,  0.        ,\n",
       "         0.        ,  0.        ]])"
      ]
     },
     "execution_count": 27,
     "metadata": {},
     "output_type": "execute_result"
    }
   ],
   "source": [
    "embedding_dim = 100\n",
    "embedding_matrix = np.zeros((1193514, embedding_dim))\n",
    "for word, i in word_index.items():\n",
    "    if i<200:\n",
    "        embedding_vector = embeddings_index.get(word)\n",
    "        if embedding_vector is not None:\n",
    "            embedding_matrix[i] = embedding_vector\n",
    "embedding_matrix"
   ]
  },
  {
   "cell_type": "code",
   "execution_count": 28,
   "id": "a1a08f1b",
   "metadata": {
    "execution": {
     "iopub.execute_input": "2021-12-19T12:52:14.269892Z",
     "iopub.status.busy": "2021-12-19T12:52:14.269386Z",
     "iopub.status.idle": "2021-12-19T12:52:17.935131Z",
     "shell.execute_reply": "2021-12-19T12:52:17.934539Z",
     "shell.execute_reply.started": "2021-12-19T12:36:55.264982Z"
    },
    "papermill": {
     "duration": 3.700403,
     "end_time": "2021-12-19T12:52:17.935330",
     "exception": false,
     "start_time": "2021-12-19T12:52:14.234927",
     "status": "completed"
    },
    "tags": []
   },
   "outputs": [
    {
     "name": "stderr",
     "output_type": "stream",
     "text": [
      "2021-12-19 12:52:14.342943: I tensorflow/stream_executor/cuda/cuda_gpu_executor.cc:937] successful NUMA node read from SysFS had negative value (-1), but there must be at least one NUMA node, so returning NUMA node zero\n",
      "2021-12-19 12:52:14.436695: I tensorflow/stream_executor/cuda/cuda_gpu_executor.cc:937] successful NUMA node read from SysFS had negative value (-1), but there must be at least one NUMA node, so returning NUMA node zero\n",
      "2021-12-19 12:52:14.437434: I tensorflow/stream_executor/cuda/cuda_gpu_executor.cc:937] successful NUMA node read from SysFS had negative value (-1), but there must be at least one NUMA node, so returning NUMA node zero\n",
      "2021-12-19 12:52:14.438635: I tensorflow/core/platform/cpu_feature_guard.cc:142] This TensorFlow binary is optimized with oneAPI Deep Neural Network Library (oneDNN) to use the following CPU instructions in performance-critical operations:  AVX2 AVX512F FMA\n",
      "To enable them in other operations, rebuild TensorFlow with the appropriate compiler flags.\n",
      "2021-12-19 12:52:14.440459: I tensorflow/stream_executor/cuda/cuda_gpu_executor.cc:937] successful NUMA node read from SysFS had negative value (-1), but there must be at least one NUMA node, so returning NUMA node zero\n",
      "2021-12-19 12:52:14.441120: I tensorflow/stream_executor/cuda/cuda_gpu_executor.cc:937] successful NUMA node read from SysFS had negative value (-1), but there must be at least one NUMA node, so returning NUMA node zero\n",
      "2021-12-19 12:52:14.441725: I tensorflow/stream_executor/cuda/cuda_gpu_executor.cc:937] successful NUMA node read from SysFS had negative value (-1), but there must be at least one NUMA node, so returning NUMA node zero\n",
      "2021-12-19 12:52:16.259323: I tensorflow/stream_executor/cuda/cuda_gpu_executor.cc:937] successful NUMA node read from SysFS had negative value (-1), but there must be at least one NUMA node, so returning NUMA node zero\n",
      "2021-12-19 12:52:16.260071: I tensorflow/stream_executor/cuda/cuda_gpu_executor.cc:937] successful NUMA node read from SysFS had negative value (-1), but there must be at least one NUMA node, so returning NUMA node zero\n",
      "2021-12-19 12:52:16.260744: I tensorflow/stream_executor/cuda/cuda_gpu_executor.cc:937] successful NUMA node read from SysFS had negative value (-1), but there must be at least one NUMA node, so returning NUMA node zero\n",
      "2021-12-19 12:52:16.261336: I tensorflow/core/common_runtime/gpu/gpu_device.cc:1510] Created device /job:localhost/replica:0/task:0/device:GPU:0 with 15403 MB memory:  -> device: 0, name: Tesla P100-PCIE-16GB, pci bus id: 0000:00:04.0, compute capability: 6.0\n"
     ]
    }
   ],
   "source": [
    "from keras.models import Sequential\n",
    "from keras.layers import Embedding, Flatten, Dense, Dropout, GRU\n",
    "model = Sequential()\n",
    "model.add(Embedding(1193514, embedding_dim, input_length = 1000))\n",
    "model.add(GRU(64))\n",
    "lrelu = lambda x: tf.keras.layers.LeakyReLU( alpha = 0.1)(x)\n",
    "model.add(Dense(128, activation= lrelu))\n",
    "model.add(Dropout(0.08))\n",
    "model.add(Dense(1, activation = 'sigmoid'))\n",
    "model.layers[0].set_weights([embedding_matrix])\n",
    "model.layers[0].trainable = True\n",
    "model.compile(optimizer = 'rmsprop', loss = 'binary_crossentropy', metrics = ['accuracy'])"
   ]
  },
  {
   "cell_type": "code",
   "execution_count": 29,
   "id": "cb8ddbff",
   "metadata": {
    "execution": {
     "iopub.execute_input": "2021-12-19T12:52:17.998199Z",
     "iopub.status.busy": "2021-12-19T12:52:17.997397Z",
     "iopub.status.idle": "2021-12-19T13:01:17.882541Z",
     "shell.execute_reply": "2021-12-19T13:01:17.883213Z",
     "shell.execute_reply.started": "2021-12-19T12:43:02.718373Z"
    },
    "papermill": {
     "duration": 539.918605,
     "end_time": "2021-12-19T13:01:17.883402",
     "exception": false,
     "start_time": "2021-12-19T12:52:17.964797",
     "status": "completed"
    },
    "tags": []
   },
   "outputs": [
    {
     "name": "stderr",
     "output_type": "stream",
     "text": [
      "2021-12-19 12:52:18.363125: I tensorflow/compiler/mlir/mlir_graph_optimization_pass.cc:185] None of the MLIR Optimization Passes are enabled (registered 2)\n"
     ]
    },
    {
     "name": "stdout",
     "output_type": "stream",
     "text": [
      "Epoch 1/4\n"
     ]
    },
    {
     "name": "stderr",
     "output_type": "stream",
     "text": [
      "2021-12-19 12:52:20.712598: I tensorflow/stream_executor/cuda/cuda_dnn.cc:369] Loaded cuDNN version 8005\n"
     ]
    },
    {
     "name": "stdout",
     "output_type": "stream",
     "text": [
      "3125/3125 [==============================] - 137s 43ms/step - loss: 0.4047 - accuracy: 0.8154 - val_loss: 0.3656 - val_accuracy: 0.8355\n",
      "Epoch 2/4\n",
      "3125/3125 [==============================] - 134s 43ms/step - loss: 0.3400 - accuracy: 0.8487 - val_loss: 0.3608 - val_accuracy: 0.8383\n",
      "Epoch 3/4\n",
      "3125/3125 [==============================] - 133s 43ms/step - loss: 0.3109 - accuracy: 0.8673 - val_loss: 0.3712 - val_accuracy: 0.8409\n",
      "Epoch 4/4\n",
      "3125/3125 [==============================] - 134s 43ms/step - loss: 0.2961 - accuracy: 0.8767 - val_loss: 0.3834 - val_accuracy: 0.8353\n"
     ]
    }
   ],
   "source": [
    "history = model.fit(Xt, yt, epochs = 4, batch_size = 32, validation_data = (Xv, yv))\n"
   ]
  },
  {
   "cell_type": "code",
   "execution_count": 30,
   "id": "b8951651",
   "metadata": {
    "execution": {
     "iopub.execute_input": "2021-12-19T13:01:21.391957Z",
     "iopub.status.busy": "2021-12-19T13:01:21.391053Z",
     "iopub.status.idle": "2021-12-19T13:01:24.735940Z",
     "shell.execute_reply": "2021-12-19T13:01:24.736420Z",
     "shell.execute_reply.started": "2021-12-19T12:02:48.589229Z"
    },
    "papermill": {
     "duration": 5.007868,
     "end_time": "2021-12-19T13:01:24.736583",
     "exception": false,
     "start_time": "2021-12-19T13:01:19.728715",
     "status": "completed"
    },
    "tags": []
   },
   "outputs": [],
   "source": [
    "predictions = model.predict(data_submit)"
   ]
  },
  {
   "cell_type": "code",
   "execution_count": 31,
   "id": "8abe41f8",
   "metadata": {
    "execution": {
     "iopub.execute_input": "2021-12-19T13:01:28.086709Z",
     "iopub.status.busy": "2021-12-19T13:01:28.085984Z",
     "iopub.status.idle": "2021-12-19T13:01:28.088830Z",
     "shell.execute_reply": "2021-12-19T13:01:28.089228Z",
     "shell.execute_reply.started": "2021-12-19T12:02:48.591825Z"
    },
    "papermill": {
     "duration": 1.705384,
     "end_time": "2021-12-19T13:01:28.089377",
     "exception": false,
     "start_time": "2021-12-19T13:01:26.383993",
     "status": "completed"
    },
    "tags": []
   },
   "outputs": [],
   "source": [
    "sample_data['score'] = predictions\n",
    "sample_data.head()\n",
    "del sample_data['text']"
   ]
  },
  {
   "cell_type": "code",
   "execution_count": 32,
   "id": "fb4a18ff",
   "metadata": {
    "execution": {
     "iopub.execute_input": "2021-12-19T13:01:31.450415Z",
     "iopub.status.busy": "2021-12-19T13:01:31.449474Z",
     "iopub.status.idle": "2021-12-19T13:01:31.493589Z",
     "shell.execute_reply": "2021-12-19T13:01:31.493112Z",
     "shell.execute_reply.started": "2021-12-19T12:02:48.594320Z"
    },
    "papermill": {
     "duration": 1.760479,
     "end_time": "2021-12-19T13:01:31.493706",
     "exception": false,
     "start_time": "2021-12-19T13:01:29.733227",
     "status": "completed"
    },
    "tags": []
   },
   "outputs": [],
   "source": [
    "sample_data.to_csv('submission.csv', index = False, float_format='%.20f' )\n"
   ]
  }
 ],
 "metadata": {
  "kernelspec": {
   "display_name": "Python 3",
   "language": "python",
   "name": "python3"
  },
  "language_info": {
   "codemirror_mode": {
    "name": "ipython",
    "version": 3
   },
   "file_extension": ".py",
   "mimetype": "text/x-python",
   "name": "python",
   "nbconvert_exporter": "python",
   "pygments_lexer": "ipython3",
   "version": "3.7.12"
  },
  "papermill": {
   "default_parameters": {},
   "duration": 682.43403,
   "end_time": "2021-12-19T13:01:35.890890",
   "environment_variables": {},
   "exception": null,
   "input_path": "__notebook__.ipynb",
   "output_path": "__notebook__.ipynb",
   "parameters": {},
   "start_time": "2021-12-19T12:50:13.456860",
   "version": "2.3.3"
  }
 },
 "nbformat": 4,
 "nbformat_minor": 5
}
